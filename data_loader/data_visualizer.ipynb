{
 "cells": [
  {
   "cell_type": "code",
   "execution_count": 9,
   "metadata": {},
   "outputs": [
    {
     "name": "stdout",
     "output_type": "stream",
     "text": [
      "Database musicdbn has already been existed.\n",
      "Table echonest has already been existed.\n",
      "Table echofilter has already been existed.\n",
      "Table millionsonglink has already been existed.\n",
      "Table spotify has already been existed.\n",
      "Table songs has already been existed.\n"
     ]
    }
   ],
   "source": [
    "import musicdb\n",
    "import matplotlib.pyplot as plt\n",
    "\n",
    "db = musicdb.MusicDB()"
   ]
  },
  {
   "cell_type": "code",
   "execution_count": 10,
   "metadata": {},
   "outputs": [
    {
     "data": {
      "image/png": "[encoded data removed]",
      "text/plain": [
       "<Figure size 432x288 with 1 Axes>"
      ]
     },
     "metadata": {
      "needs_background": "light"
     },
     "output_type": "display_data"
    }
   ],
   "source": [
    "def visualize_echo_nest():\n",
    "    sql_cmd_base = \"SELECT COUNT(*) FROM {} WHERE \".format(db.echo_nest_table_name)\n",
    "    query_cmd = \"audio_lyric>={} and audio_lyric<{}\"\n",
    "    count = None\n",
    "    pos = 1\n",
    "    count_list = []\n",
    "    pos_list = []\n",
    "    while count is None or pos < 100:\n",
    "        sql_cmd = sql_cmd_base + query_cmd.format(pos, pos + 1)\n",
    "        my_cursor = db.execute_cmd(sql_cmd)\n",
    "        for row in my_cursor:\n",
    "            count = row[0]\n",
    "            break\n",
    "        count_list.append(count)\n",
    "        pos_list.append(pos)\n",
    "        pos += 1\n",
    "        \n",
    "    #print(count_list)\n",
    "    #print(pos_list)\n",
    "    \n",
    "    # Plot\n",
    "    plt.bar(pos_list, count_list)\n",
    "    plt.xlabel('Number of songs with both audio and lyric info')\n",
    "    plt.ylabel('Number of playlists')\n",
    "    plt.show()\n",
    "        \n",
    "visualize_echo_nest()"
   ]
  },
  {
   "cell_type": "code",
   "execution_count": 11,
   "metadata": {},
   "outputs": [
    {
     "name": "stdout",
     "output_type": "stream",
     "text": [
      "There are 15544 (75.32102534283084 %) playlists with over 5 audio and lyric\n",
      "There are 10313 (49.9733488394631 %) playlists with over 10 audio and lyric\n",
      "There are 7372 (35.72224645054998 %) playlists with over 15 audio and lyric\n",
      "There are 5664 (27.445849687454572 %) playlists with over 20 audio and lyric\n"
     ]
    }
   ],
   "source": [
    "# Get a counter by setting a threshold\n",
    "def echo_nest_counter(thres):\n",
    "    sql_cmd = \"SELECT COUNT(*) FROM {} WHERE audio_lyric>{}\".format(db.echo_nest_table_name, thres)\n",
    "    my_cursor = db.execute_cmd(sql_cmd)\n",
    "    count = 0\n",
    "    for row in my_cursor:\n",
    "        count = row[0]\n",
    "        break\n",
    "    count_all = 0\n",
    "    sql_cmd = \"SELECT COUNT(*) FROM {}\".format(db.echo_nest_table_name, thres)\n",
    "    my_cursor = db.execute_cmd(sql_cmd)\n",
    "    for row in my_cursor:\n",
    "        count_all = row[0]\n",
    "        break\n",
    "    print(\"There are {} ({} %) playlists with over {} audio and lyric\".format(count, float(count/count_all)*100, thres))\n",
    "    \n",
    "echo_nest_counter(5)\n",
    "echo_nest_counter(10)\n",
    "echo_nest_counter(15)\n",
    "echo_nest_counter(20)"
   ]
  },
  {
   "cell_type": "code",
   "execution_count": 12,
   "metadata": {},
   "outputs": [
    {
     "data": {
      "image/png": "[encoded data removed]",
      "text/plain": [
       "<Figure size 432x288 with 1 Axes>"
      ]
     },
     "metadata": {
      "needs_background": "light"
     },
     "output_type": "display_data"
    }
   ],
   "source": [
    "# visualize song table\n",
    "def visualize_song_table():\n",
    "    sql_cmd_base = \"SELECT COUNT(*) FROM {} WHERE \".format(db.song_table_name)\n",
    "    query_cmd = \"release_date>='{}-01-01' and release_date<'{}-01-01' and audio=1 and lyric=1 and is_spotify=0\"\n",
    "    count = None\n",
    "    pos = 1950\n",
    "    count_list = []\n",
    "    pos_list = []\n",
    "    while count is None or pos < 2023:\n",
    "        sql_cmd = sql_cmd_base + query_cmd.format(pos, pos + 1)\n",
    "        my_cursor = db.execute_cmd(sql_cmd)\n",
    "        for row in my_cursor:\n",
    "            count = row[0]\n",
    "            break\n",
    "        count_list.append(count)\n",
    "        pos_list.append(pos)\n",
    "        pos += 1\n",
    "        \n",
    "    #print(count_list)\n",
    "    #print(pos_list)\n",
    "    \n",
    "    # Plot\n",
    "    plt.bar(pos_list, count_list)\n",
    "    plt.xlabel('Release Date')\n",
    "    plt.ylabel('Number of songs with both audio and lyric')\n",
    "    plt.show()\n",
    "\n",
    "visualize_song_table()"
   ]
  },
  {
   "cell_type": "code",
   "execution_count": 8,
   "metadata": {},
   "outputs": [
    {
     "ename": "OperationalError",
     "evalue": "2013 (HY000): Lost connection to MySQL server during query",
     "output_type": "error",
     "traceback": [
      "\u001b[1;31m---------------------------------------------------------------------------\u001b[0m",
      "\u001b[1;31mMySQLInterfaceError\u001b[0m                       Traceback (most recent call last)",
      "\u001b[1;32mC:\\ProgramData\\Anaconda3\\lib\\site-packages\\mysql\\connector\\connection_cext.py\u001b[0m in \u001b[0;36mcmd_query\u001b[1;34m(self, query, raw, buffered, raw_as_string)\u001b[0m\n\u001b[0;32m    534\u001b[0m                 \u001b[0mquery\u001b[0m \u001b[1;33m=\u001b[0m \u001b[0mquery\u001b[0m\u001b[1;33m.\u001b[0m\u001b[0mencode\u001b[0m\u001b[1;33m(\u001b[0m\u001b[1;34m'utf-8'\u001b[0m\u001b[1;33m)\u001b[0m\u001b[1;33m\u001b[0m\u001b[1;33m\u001b[0m\u001b[0m\n\u001b[1;32m--> 535\u001b[1;33m             self._cmysql.query(query,\n\u001b[0m\u001b[0;32m    536\u001b[0m                                \u001b[0mraw\u001b[0m\u001b[1;33m=\u001b[0m\u001b[0mraw\u001b[0m\u001b[1;33m,\u001b[0m \u001b[0mbuffered\u001b[0m\u001b[1;33m=\u001b[0m\u001b[0mbuffered\u001b[0m\u001b[1;33m,\u001b[0m\u001b[1;33m\u001b[0m\u001b[1;33m\u001b[0m\u001b[0m\n",
      "\u001b[1;31mMySQLInterfaceError\u001b[0m: Lost connection to MySQL server during query",
      "\nDuring handling of the above exception, another exception occurred:\n",
      "\u001b[1;31mOperationalError\u001b[0m                          Traceback (most recent call last)",
      "\u001b[1;32m<ipython-input-8-ebafa5c8d285>\u001b[0m in \u001b[0;36m<module>\u001b[1;34m\u001b[0m\n\u001b[0;32m     15\u001b[0m     \u001b[0mprint\u001b[0m\u001b[1;33m(\u001b[0m\u001b[1;34m\"There are {} ({} %) songs released after {}-01-01 with audio and lyric\"\u001b[0m\u001b[1;33m.\u001b[0m\u001b[0mformat\u001b[0m\u001b[1;33m(\u001b[0m\u001b[0mcount\u001b[0m\u001b[1;33m,\u001b[0m \u001b[0mfloat\u001b[0m\u001b[1;33m(\u001b[0m\u001b[0mcount\u001b[0m\u001b[1;33m/\u001b[0m\u001b[0mcount_all\u001b[0m\u001b[1;33m)\u001b[0m\u001b[1;33m*\u001b[0m\u001b[1;36m100\u001b[0m\u001b[1;33m,\u001b[0m \u001b[0mthres\u001b[0m\u001b[1;33m)\u001b[0m\u001b[1;33m)\u001b[0m\u001b[1;33m\u001b[0m\u001b[1;33m\u001b[0m\u001b[0m\n\u001b[0;32m     16\u001b[0m \u001b[1;33m\u001b[0m\u001b[0m\n\u001b[1;32m---> 17\u001b[1;33m \u001b[0msong_table_counter\u001b[0m\u001b[1;33m(\u001b[0m\u001b[1;36m2008\u001b[0m\u001b[1;33m)\u001b[0m\u001b[1;33m\u001b[0m\u001b[1;33m\u001b[0m\u001b[0m\n\u001b[0m\u001b[0;32m     18\u001b[0m \u001b[0msong_table_counter\u001b[0m\u001b[1;33m(\u001b[0m\u001b[1;36m2009\u001b[0m\u001b[1;33m)\u001b[0m\u001b[1;33m\u001b[0m\u001b[1;33m\u001b[0m\u001b[0m\n\u001b[0;32m     19\u001b[0m \u001b[0msong_table_counter\u001b[0m\u001b[1;33m(\u001b[0m\u001b[1;36m2010\u001b[0m\u001b[1;33m)\u001b[0m\u001b[1;33m\u001b[0m\u001b[1;33m\u001b[0m\u001b[0m\n",
      "\u001b[1;32m<ipython-input-8-ebafa5c8d285>\u001b[0m in \u001b[0;36msong_table_counter\u001b[1;34m(thres)\u001b[0m\n\u001b[0;32m      2\u001b[0m \u001b[1;32mdef\u001b[0m \u001b[0msong_table_counter\u001b[0m\u001b[1;33m(\u001b[0m\u001b[0mthres\u001b[0m\u001b[1;33m)\u001b[0m\u001b[1;33m:\u001b[0m\u001b[1;33m\u001b[0m\u001b[1;33m\u001b[0m\u001b[0m\n\u001b[0;32m      3\u001b[0m     \u001b[0msql_cmd\u001b[0m \u001b[1;33m=\u001b[0m \u001b[1;34m\"SELECT COUNT(*) FROM {} WHERE release_date>'{}-01-01' and audio=1 and lyric=1 and is_spotify=0\"\u001b[0m\u001b[1;33m.\u001b[0m\u001b[0mformat\u001b[0m\u001b[1;33m(\u001b[0m\u001b[0mdb\u001b[0m\u001b[1;33m.\u001b[0m\u001b[0msong_table_name\u001b[0m\u001b[1;33m,\u001b[0m \u001b[0mthres\u001b[0m\u001b[1;33m)\u001b[0m\u001b[1;33m\u001b[0m\u001b[1;33m\u001b[0m\u001b[0m\n\u001b[1;32m----> 4\u001b[1;33m     \u001b[0mmy_cursor\u001b[0m \u001b[1;33m=\u001b[0m \u001b[0mdb\u001b[0m\u001b[1;33m.\u001b[0m\u001b[0mexecute_cmd\u001b[0m\u001b[1;33m(\u001b[0m\u001b[0msql_cmd\u001b[0m\u001b[1;33m)\u001b[0m\u001b[1;33m\u001b[0m\u001b[1;33m\u001b[0m\u001b[0m\n\u001b[0m\u001b[0;32m      5\u001b[0m     \u001b[0mcount\u001b[0m \u001b[1;33m=\u001b[0m \u001b[1;36m0\u001b[0m\u001b[1;33m\u001b[0m\u001b[1;33m\u001b[0m\u001b[0m\n\u001b[0;32m      6\u001b[0m     \u001b[1;32mfor\u001b[0m \u001b[0mrow\u001b[0m \u001b[1;32min\u001b[0m \u001b[0mmy_cursor\u001b[0m\u001b[1;33m:\u001b[0m\u001b[1;33m\u001b[0m\u001b[1;33m\u001b[0m\u001b[0m\n",
      "\u001b[1;32m~\\OneDrive\\UoE Learning\\MSc Project Repo\\data_loader\\musicdb.py\u001b[0m in \u001b[0;36mexecute_cmd\u001b[1;34m(self, sql_cmd)\u001b[0m\n\u001b[0;32m    134\u001b[0m     \u001b[1;31m# Execute external mysql query command\u001b[0m\u001b[1;33m\u001b[0m\u001b[1;33m\u001b[0m\u001b[1;33m\u001b[0m\u001b[0m\n\u001b[0;32m    135\u001b[0m     \u001b[1;32mdef\u001b[0m \u001b[0mexecute_cmd\u001b[0m\u001b[1;33m(\u001b[0m\u001b[0mself\u001b[0m\u001b[1;33m,\u001b[0m \u001b[0msql_cmd\u001b[0m\u001b[1;33m)\u001b[0m\u001b[1;33m:\u001b[0m\u001b[1;33m\u001b[0m\u001b[1;33m\u001b[0m\u001b[0m\n\u001b[1;32m--> 136\u001b[1;33m         \u001b[0mself\u001b[0m\u001b[1;33m.\u001b[0m\u001b[0mmycursor\u001b[0m\u001b[1;33m.\u001b[0m\u001b[0mexecute\u001b[0m\u001b[1;33m(\u001b[0m\u001b[0msql_cmd\u001b[0m\u001b[1;33m)\u001b[0m\u001b[1;33m\u001b[0m\u001b[1;33m\u001b[0m\u001b[0m\n\u001b[0m\u001b[0;32m    137\u001b[0m         \u001b[1;32mreturn\u001b[0m \u001b[0mself\u001b[0m\u001b[1;33m.\u001b[0m\u001b[0mmycursor\u001b[0m\u001b[1;33m\u001b[0m\u001b[1;33m\u001b[0m\u001b[0m\n\u001b[0;32m    138\u001b[0m \u001b[1;33m\u001b[0m\u001b[0m\n",
      "\u001b[1;32mC:\\ProgramData\\Anaconda3\\lib\\site-packages\\mysql\\connector\\cursor_cext.py\u001b[0m in \u001b[0;36mexecute\u001b[1;34m(self, operation, params, multi)\u001b[0m\n\u001b[0;32m    267\u001b[0m \u001b[1;33m\u001b[0m\u001b[0m\n\u001b[0;32m    268\u001b[0m         \u001b[1;32mtry\u001b[0m\u001b[1;33m:\u001b[0m\u001b[1;33m\u001b[0m\u001b[1;33m\u001b[0m\u001b[0m\n\u001b[1;32m--> 269\u001b[1;33m             result = self._cnx.cmd_query(stmt, raw=self._raw,\n\u001b[0m\u001b[0;32m    270\u001b[0m                                          \u001b[0mbuffered\u001b[0m\u001b[1;33m=\u001b[0m\u001b[0mself\u001b[0m\u001b[1;33m.\u001b[0m\u001b[0m_buffered\u001b[0m\u001b[1;33m,\u001b[0m\u001b[1;33m\u001b[0m\u001b[1;33m\u001b[0m\u001b[0m\n\u001b[0;32m    271\u001b[0m                                          raw_as_string=self._raw_as_string)\n",
      "\u001b[1;32mC:\\ProgramData\\Anaconda3\\lib\\site-packages\\mysql\\connector\\connection_cext.py\u001b[0m in \u001b[0;36mcmd_query\u001b[1;34m(self, query, raw, buffered, raw_as_string)\u001b[0m\n\u001b[0;32m    538\u001b[0m                                query_attrs=self._query_attrs)\n\u001b[0;32m    539\u001b[0m         \u001b[1;32mexcept\u001b[0m \u001b[0mMySQLInterfaceError\u001b[0m \u001b[1;32mas\u001b[0m \u001b[0mexc\u001b[0m\u001b[1;33m:\u001b[0m\u001b[1;33m\u001b[0m\u001b[1;33m\u001b[0m\u001b[0m\n\u001b[1;32m--> 540\u001b[1;33m             raise errors.get_mysql_exception(exc.errno, msg=exc.msg,\n\u001b[0m\u001b[0;32m    541\u001b[0m                                              sqlstate=exc.sqlstate)\n\u001b[0;32m    542\u001b[0m         \u001b[1;32mexcept\u001b[0m \u001b[0mAttributeError\u001b[0m\u001b[1;33m:\u001b[0m\u001b[1;33m\u001b[0m\u001b[1;33m\u001b[0m\u001b[0m\n",
      "\u001b[1;31mOperationalError\u001b[0m: 2013 (HY000): Lost connection to MySQL server during query"
     ]
    }
   ],
   "source": [
    "# Get a counter by setting a threshold\n",
    "def song_table_counter(thres):\n",
    "    sql_cmd = \"SELECT COUNT(*) FROM {} WHERE release_date>'{}-01-01' and audio=1 and lyric=1 and is_spotify=0\".format(db.song_table_name, thres)\n",
    "    my_cursor = db.execute_cmd(sql_cmd)\n",
    "    count = 0\n",
    "    for row in my_cursor:\n",
    "        count = row[0]\n",
    "        break\n",
    "    count_all = 0\n",
    "    sql_cmd = \"SELECT COUNT(*) FROM {} WHERE audio=1 and lyric=1\".format(db.song_table_name, thres)\n",
    "    my_cursor = db.execute_cmd(sql_cmd)\n",
    "    for row in my_cursor:\n",
    "        count_all = row[0]\n",
    "        break\n",
    "    print(\"There are {} ({} %) songs released after {}-01-01 with audio and lyric\".format(count, float(count/count_all)*100, thres))\n",
    "\n",
    "song_table_counter(2008)\n",
    "song_table_counter(2009)\n",
    "song_table_counter(2010)\n",
    "song_table_counter(2011)\n",
    "song_table_counter(2012)"
   ]
  },
  {
   "cell_type": "code",
   "execution_count": 16,
   "metadata": {},
   "outputs": [
    {
     "name": "stdout",
     "output_type": "stream",
     "text": [
      "There are 18984 song with audio and lyric in the dataset, 16044 English Song (84.51327433628319%)\n",
      "14265 (75.14222503160556%) valid songs with audio, lyric, English and genre top\n",
      "14265 (75.14222503160556%) valid songs with audio, lyric, English and genre raw\n"
     ]
    }
   ],
   "source": [
    "# Info report for song table\n",
    "def get_counter(sql_cmd):\n",
    "    my_cursor = db.execute_cmd(sql_cmd)\n",
    "    for row in my_cursor:\n",
    "        return row[0]\n",
    "\n",
    "# Unreliable\n",
    "def get_song_table_info():\n",
    "    # Number of unique track id with valid audio and lyric\n",
    "    sql_cmd = \"SELECT COUNT(DISTINCT trackid) FROM {} WHERE audio=1 and lyric=1 and lang='en'\".format(db.song_table_name)\n",
    "    track_id_count_en = get_counter(sql_cmd)\n",
    "    sql_cmd = \"SELECT COUNT(DISTINCT trackid) FROM {} WHERE audio=1 and lyric=1\".format(db.song_table_name)\n",
    "    track_id_count = get_counter(sql_cmd)\n",
    "    sql_cmd = \"SELECT COUNT(DISTINCT trackid) FROM {} WHERE audio=1 and lyric=1 and lang='en' and json_length(genre_top)>0\".format(db.song_table_name)\n",
    "    track_id_valid_count = get_counter(sql_cmd)\n",
    "    sql_cmd = \"SELECT COUNT(DISTINCT trackid) FROM {} WHERE audio=1 and lyric=1 and lang='en' and json_length(genre_raw)>0\".format(db.song_table_name)\n",
    "    track_id_raw_count = get_counter(sql_cmd)\n",
    "    print(\"There are {} song with audio and lyric in the dataset, {} English Song ({}%)\".format(track_id_count, track_id_count_en,track_id_count_en*100/track_id_count))\n",
    "    print(\"{} ({}%) valid songs with audio, lyric, English and genre top\".format(track_id_valid_count, track_id_valid_count*100/track_id_count))\n",
    "    print(\"{} ({}%) valid songs with audio, lyric, English and genre raw\".format(track_id_raw_count, track_id_raw_count*100/track_id_count))\n",
    "get_song_table_info()"
   ]
  },
  {
   "cell_type": "code",
   "execution_count": 9,
   "metadata": {},
   "outputs": [
    {
     "name": "stdout",
     "output_type": "stream",
     "text": [
      "There are 22041 music and 36239 lyric, the intersection is 19033\n"
     ]
    }
   ],
   "source": [
    "# find the intersection between music and lyric_raw folder\n",
    "import os\n",
    "dataset_root = 'E:/dataset/base'\n",
    "\n",
    "def get_inter_music_lyric():\n",
    "    music_path = dataset_root + '/' + 'music'\n",
    "    lyric_path = dataset_root + '/' + 'lyric_raw'\n",
    "    music_url_list = os.listdir(music_path)\n",
    "    lyric_url_list = os.listdir(lyric_path)\n",
    "    music_ids = [music.split('.')[0] for music in music_url_list]\n",
    "    lyric_ids = [lyric.split('.')[0] for lyric in lyric_url_list]\n",
    "    music_set = set(music_ids)\n",
    "    lyric_set = set(lyric_ids)\n",
    "    inter_set = music_set & lyric_set\n",
    "    print(\"There are {} music and {} lyric, the intersection is {}\".format(len(music_ids), len(lyric_ids), len(inter_set)))\n",
    "    \n",
    "get_inter_music_lyric()"
   ]
  },
  {
   "cell_type": "code",
   "execution_count": null,
   "metadata": {},
   "outputs": [],
   "source": [
    "\n",
    "    "
   ]
  },
  {
   "cell_type": "code",
   "execution_count": null,
   "metadata": {},
   "outputs": [],
   "source": []
  }
 ],
 "metadata": {
  "kernelspec": {
   "display_name": "Python 3",
   "language": "python",
   "name": "python3"
  },
  "language_info": {
   "codemirror_mode": {
    "name": "ipython",
    "version": 3
   },
   "file_extension": ".py",
   "mimetype": "text/x-python",
   "name": "python",
   "nbconvert_exporter": "python",
   "pygments_lexer": "ipython3",
   "version": "3.8.5"
  }
 },
 "nbformat": 4,
 "nbformat_minor": 4
}
