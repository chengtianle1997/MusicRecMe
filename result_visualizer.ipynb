{
 "cells": [
  {
   "cell_type": "code",
   "execution_count": 128,
   "metadata": {},
   "outputs": [],
   "source": [
    "import matplotlib.pyplot as plt\n",
    "import numpy as np\n",
    "import pickle\n",
    "import os\n",
    "\n",
    "from data_loader import data_loader\n",
    "import datetime\n",
    "\n",
    "import model as Model\n",
    "import torch\n",
    "import torch.nn as nn\n",
    "import torch.optim as optim\n",
    "\n",
    "from tqdm import tqdm"
   ]
  },
  {
   "cell_type": "code",
   "execution_count": 292,
   "metadata": {},
   "outputs": [
    {
     "name": "stdout",
     "output_type": "stream",
     "text": [
      "Load existed song dictionary cache successfully!\n",
      "Load existed genre dictionary cache successfully!\n",
      "Load existed genre matrix cache successfully!\n",
      "Load existed song matrix cache successfully!\n",
      "Load existed train song dictionary and matrix cache successfully!\n",
      "Load existed test song dictionary and matrix cache successfully!\n",
      "Load existed train matrix cache successfully!\n",
      "Load existed valid matrix cache successfully!\n",
      "Load existed test matrix cache successfully!\n",
      "dataset loaded:\n",
      "music embed dim: 201 [201, 0, 0, 0]\n",
      "950 playlists found for item_cold\n",
      "300 playlists found for user_cold_10\n",
      "50 playlists found for user_cold_25\n",
      "850 playlists found for user_cold_5\n",
      "950 playlists found for user_item_cold\n",
      "Checkpoint found, start from epoch 6, loss: 0.02640292549061274, valid loss:0.04613054923378773\n",
      "52419 songs in test set: old: 44083 (84.0973692744997%) ,new: 8336 (15.902630725500297%)\n"
     ]
    }
   ],
   "source": [
    "# load dataset\n",
    "batch_size = 50\n",
    "lr = 0.001\n",
    "head = 1\n",
    "root = 'E:'\n",
    "gen = True\n",
    "meta = False\n",
    "#audio = \"musicnn\"\n",
    "audio = None\n",
    "#lyric = \"tf_idf\"\n",
    "lyric = None\n",
    "sub = False\n",
    "\n",
    "loss_type = 'seq_cos'\n",
    "seq_k = 10\n",
    "\n",
    "use_music_embedding = False\n",
    "check_baseline = False\n",
    "\n",
    "echo_nest_sub_path = 'dataset/echo_nest/sub_data'\n",
    "echo_nest_whole_path = 'dataset/echo_nest/data'\n",
    "\n",
    "device = torch.device(\"cuda\" if torch.cuda.is_available() else \"cpu\")\n",
    "\n",
    "# get task name from args configurations\n",
    "def get_task_name(genre=False, meta=True, audio='musicnn', lyric=None):\n",
    "    task_name = \"\"\n",
    "    if genre is True:\n",
    "        task_name += \"genre_\"\n",
    "    if meta is True:\n",
    "        task_name += \"meta_\"\n",
    "    if audio is None:\n",
    "        task_name += \"none\" + '_'\n",
    "    else:\n",
    "        task_name += audio + '_'\n",
    "    if lyric is None:\n",
    "        task_name += \"none\"\n",
    "    else:\n",
    "        task_name += lyric\n",
    "    return task_name\n",
    "\n",
    "# get sub task name for sub-folder\n",
    "def get_sub_task_name(batch, lr, head):\n",
    "    return \"b_{}_lr_{}_head_{}\".format(batch, lr, head)\n",
    "\n",
    "# load batch size and learning rate\n",
    "learning_rate = lr\n",
    "# check if it is a sub-dataset for debugging and testing\n",
    "if sub:\n",
    "    work_folder_root = root + '/' + echo_nest_sub_path\n",
    "else:\n",
    "    work_folder_root = root + '/' + echo_nest_whole_path\n",
    "# create work folder\n",
    "task_name = get_task_name(gen, meta, audio, lyric)\n",
    "work_folder = work_folder_root + '/' + task_name\n",
    "if not os.path.exists(work_folder):\n",
    "    os.makedirs(work_folder)\n",
    "# create cache folder\n",
    "cache_folder = work_folder + '/cache'\n",
    "if not os.path.exists(cache_folder):\n",
    "    os.makedirs(cache_folder)\n",
    "\n",
    "dataset = data_loader.Dataset(dataset_root='E:', sub=sub, genre=gen, meta=meta, \\\n",
    "        audio=audio, lyric=lyric, outdir=cache_folder, dim_list=[0, 0, 200, 0])\n",
    "\n",
    "music_embed_dim, music_embed_dim_list = dataset.get_dim()\n",
    "print(\"dataset loaded:\")\n",
    "print(\"music embed dim: {} [{}, {}, {}, {}]\".format(music_embed_dim, music_embed_dim_list[0], \\\n",
    "    music_embed_dim_list[1], music_embed_dim_list[2], music_embed_dim_list[3]))\n",
    "\n",
    "# load train and valid set\n",
    "train_data_list = dataset.get_data(set_tag='train', neg_samp=False)\n",
    "x_train_len_list, y_train_len_list, x_train_tensor_list, y_train_tensor_list = \\\n",
    "    dataset.get_batched_data(train_data_list, batch_size=batch_size, fix_length=False)\n",
    "x_train_tracks = train_data_list[2]\n",
    "y_train_tracks = train_data_list[3]\n",
    "\n",
    "valid_data_list = dataset.get_data(set_tag='valid', neg_samp=False)\n",
    "# valid_data_batch =  len(valid_data_list[0])\n",
    "valid_data_batch = batch_size\n",
    "x_valid_len_list, y_valid_len_list, x_valid_tensor_list, y_valid_tensor_list = \\\n",
    "    dataset.get_batched_data(valid_data_list, batch_size=valid_data_batch, fix_length=False)\n",
    "\n",
    "x_valid_tracks = valid_data_list[2]\n",
    "y_valid_tracks = valid_data_list[3]\n",
    "\n",
    "# load test set\n",
    "test_data_dict = dataset.get_data(set_tag='test')\n",
    "test_data_batch = batch_size\n",
    "test_batched_data_dict = {}\n",
    "x_test_tracks_dict = {}\n",
    "y_test_tracks_dict = {}\n",
    "for key in test_data_dict.keys():\n",
    "    x_test_len_list, y_test_len_list, x_test_tensor_list, y_test_tensor_list = \\\n",
    "        dataset.get_batched_data(test_data_dict[key], batch_size=test_data_batch, fix_length=False)\n",
    "    test_batched_data_dict[key] = [x_test_len_list, y_test_len_list, x_test_tensor_list, y_test_tensor_list]\n",
    "    print(\"{} playlists found for {}\".format(len(x_test_len_list) * test_data_batch, key))\n",
    "    x_test_tracks_dict[key] = test_data_dict[key][2]\n",
    "    y_test_tracks_dict[key] = test_data_dict[key][3]\n",
    "    \n",
    "# load model\n",
    "model = Model.UserAttention(music_embed_dim, music_embed_dim_list, \\\n",
    "    return_seq=True if loss_type=='seq_cos' else False, seq_k=seq_k, re_embed=use_music_embedding, \\\n",
    "    check_baseline=check_baseline)\n",
    "\n",
    "# load checkpoint\n",
    "# check if checkpoint exists\n",
    "sub_task_name = get_sub_task_name(batch_size, lr, head)\n",
    "checkpoint_final_path = work_folder + '/' + sub_task_name + '.pt'\n",
    "if os.path.isfile(checkpoint_final_path):\n",
    "    checkpoint = torch.load(checkpoint_final_path)\n",
    "    model.load_state_dict(checkpoint['model_state_dict'])\n",
    "    # optimizer = optim.Adam(model.parameters(), lr=args.lr)\n",
    "    start_epoch = checkpoint['epoch']\n",
    "    loss = checkpoint['loss']\n",
    "    best_valid_loss = checkpoint['valid_loss']\n",
    "    print(\"Checkpoint found, start from epoch {}, loss: {}, valid loss:{}\"\\\n",
    "        .format(start_epoch, loss, best_valid_loss))\n",
    "\n",
    "# move model to device\n",
    "model = nn.DataParallel(model) # designed for multi-GPUs\n",
    "model = model.to(device)\n",
    "\n",
    "# load recommender\n",
    "if loss_type == 'seq_cos':\n",
    "    recommender_valid = Model.MusicRecommenderSequenceEmbed(dataset, device, mode='train', \\\n",
    "        model=model, use_music_embedding=use_music_embedding)\n",
    "else:\n",
    "    recommender_valid = Model.MusicRecommender(dataset, device, mode='train', model=model, \\\n",
    "        use_music_embedding=use_music_embedding)\n",
    "\n",
    "if loss_type == 'seq_cos':\n",
    "    recommender_test = Model.MusicRecommenderSequenceEmbed(dataset, device, mode='test', \\\n",
    "        model=model, use_music_embedding=use_music_embedding)\n",
    "else:\n",
    "    recommender_test = Model.MusicRecommender(dataset, device, mode='test', model=model, \\\n",
    "        use_music_embedding=use_music_embedding)"
   ]
  },
  {
   "cell_type": "code",
   "execution_count": 301,
   "metadata": {},
   "outputs": [
    {
     "name": "stdout",
     "output_type": "stream",
     "text": [
      "[0.00027604 0.00083203 0.00083203]\n",
      "[3.00974210e-05 5.30691583e-04 5.30691583e-04]\n",
      "[4.27789185e-05 7.64077202e-04 7.64077202e-04]\n"
     ]
    }
   ],
   "source": [
    "# random recommender\n",
    "import random\n",
    "def random_recommender(y_tracks):\n",
    "    song_list = dataset.song_dict.keys()\n",
    "    recall_list = []\n",
    "    \n",
    "    for i in range(len(y_tracks)):\n",
    "        rec_song = random.sample(song_list, 100)\n",
    "        gt_set = set(y_tracks[i])\n",
    "        inter_10 = set(rec_song[0:10]) & gt_set\n",
    "        inter_50 = set(rec_song[0:50]) & gt_set\n",
    "        inter_100 = set(rec_song[0:50]) & gt_set\n",
    "        recall_list.append([len(inter_10) / len(gt_set), len(inter_50) / len(gt_set), len(inter_100) / len(gt_set)])\n",
    "    \n",
    "    recalls = np.array(recall_list)\n",
    "    recalls = recalls.mean(axis=0)\n",
    "    \n",
    "    return recalls\n",
    "    \n",
    "print(random_recommender(y_valid_tracks))\n",
    "\n",
    "print(random_recommender(y_test_tracks_dict['item_cold']))\n",
    "\n",
    "print(random_recommender(y_test_tracks_dict['user_item_cold']))"
   ]
  },
  {
   "cell_type": "code",
   "execution_count": 300,
   "metadata": {},
   "outputs": [
    {
     "name": "stdout",
     "output_type": "stream",
     "text": [
      "[0.00252002 0.01449402 0.01449402]\n"
     ]
    }
   ],
   "source": [
    "# popularity sampling\n",
    "from numpy.random import choice\n",
    "class PopSamp(object):\n",
    "    def __init__(self):\n",
    "        self.weight_dict = dataset.song_dict.copy()\n",
    "        self.song_list = []\n",
    "        self.song_pop = []\n",
    "        for key in self.weight_dict.keys():\n",
    "            self.weight_dict[key] = 0\n",
    "        for i in range(len(x_train_tracks)):\n",
    "            for track in x_train_tracks[i]:\n",
    "                self.weight_dict[track] += 1\n",
    "            for track in y_train_tracks[i]:\n",
    "                self.weight_dict[track] += 1\n",
    "        for key in self.weight_dict.keys():\n",
    "            self.song_list.append(key)\n",
    "            self.song_pop.append(self.weight_dict[key])\n",
    "        self.song_pop = np.array(self.song_pop)\n",
    "        self.song_pop = self.song_pop / self.song_pop.sum()\n",
    "    \n",
    "    def recommend(self, y_tracks):\n",
    "        recall_list = []\n",
    "    \n",
    "        for i in range(len(y_tracks)):\n",
    "            rec_song = choice(self.song_list, 100, p=self.song_pop)\n",
    "            gt_set = set(y_tracks[i])\n",
    "            inter_10 = set(rec_song[0:10]) & gt_set\n",
    "            inter_50 = set(rec_song[0:50]) & gt_set\n",
    "            inter_100 = set(rec_song[0:50]) & gt_set\n",
    "            recall_list.append([len(inter_10) / len(gt_set), len(inter_50) / len(gt_set), len(inter_100) / len(gt_set)])\n",
    "\n",
    "        recalls = np.array(recall_list)\n",
    "        recalls = recalls.mean(axis=0)\n",
    "\n",
    "        return recalls\n",
    "    \n",
    "pop_samp = PopSamp()\n",
    "\n",
    "        "
   ]
  },
  {
   "cell_type": "code",
   "execution_count": 302,
   "metadata": {},
   "outputs": [
    {
     "name": "stdout",
     "output_type": "stream",
     "text": [
      "[0.00270134 0.01426577 0.01426577]\n",
      "[0.00063261 0.0041696  0.0041696 ]\n",
      "[0.00012899 0.00039743 0.00039743]\n"
     ]
    }
   ],
   "source": [
    "print(pop_samp.recommend(y_valid_tracks))\n",
    "print(pop_samp.recommend(y_test_tracks_dict['item_cold']))\n",
    "print(pop_samp.recommend(y_test_tracks_dict['user_item_cold']))"
   ]
  },
  {
   "cell_type": "code",
   "execution_count": 259,
   "metadata": {},
   "outputs": [],
   "source": [
    "# visualize user embedding, user liked songs, and song embedding distribution\n",
    "class Visualizer(object):\n",
    "    \n",
    "    def __init__(self, dataset):\n",
    "        self.song_mat = dataset.song_mat\n",
    "        # pca song mat to 2d\n",
    "        U, S, self.V = torch.pca_lowrank(torch.tensor(self.song_mat), q=2)\n",
    "        #self.song_mat = torch.matmul(torch.tensor(self.song_mat), self.V[:, :2]).numpy()\n",
    "        self.song_mat = self.to_2d(self.song_mat)\n",
    "        self.V = self.V.to(torch.float32)\n",
    "        print(\"Visualizer init\")\n",
    "        \n",
    "    def to_2d(self, mat):\n",
    "        mat = torch.matmul(torch.tensor(mat), self.V[:, :2]).numpy()\n",
    "        # standardize\n",
    "        # mat = mat / np.sqrt(mat[:, 0] * mat[:, 0] + mat[:, 1] * mat[:, 1]).reshape(mat.shape[0], 1)\n",
    "        return mat\n",
    "    \n",
    "    def evaluate(self, model, x_tensor_list, y_tensor_list, x_len_list, y_len_list, x_tracks, y_tracks, recommender):\n",
    "        self.x = x_tensor_list\n",
    "        self.y = y_tensor_list\n",
    "        self.x_track = x_tracks\n",
    "        self.y_track = y_tracks\n",
    "        self.pred_list = []\n",
    "        self.recom_list = []\n",
    "        self.recom_id_list = []\n",
    "        self.recall_list = []\n",
    "        self.matched_list = []\n",
    "        # check mode\n",
    "        mode = recommender.mode\n",
    "        #for i in tqdm(range(len(x_tensor_list))):\n",
    "        for i in tqdm(range(2)):\n",
    "            # get x and y\n",
    "            x = x_tensor_list[i].to(device)\n",
    "            x_len = x_len_list[i]\n",
    "            y = y_tensor_list[i].to(device)\n",
    "            y_len = y_len_list[i]\n",
    "            _batch_size = x.shape[0]\n",
    "            # generate mask for attention\n",
    "            x_mask = Model.generate_mask(x_len).to(device)\n",
    "            # generate mask for y to calculate loss\n",
    "            y_mask = Model.generate_out_mask(y_len).to(device)\n",
    "            x_y_mask = Model.generate_out_mask(x_len).to(device)\n",
    "            # set to evaluation\n",
    "            model.eval()\n",
    "            # prediction\n",
    "            pred = model(x, x_mask)\n",
    "            self.pred_list.append(pred)\n",
    "            # recommendation\n",
    "            if mode == 'train':\n",
    "                top_10_track_ids, top_10_track_mats, recalls, others = \\\n",
    "                    recommender.recommend(pred, x_tracks[i * _batch_size: (i + 1)*_batch_size], y_tracks[i * _batch_size: (i + 1)*_batch_size], return_songs=True)\n",
    "                self.recom_list.append(top_10_track_mats)\n",
    "                self.recom_id_list.append(top_10_track_ids)\n",
    "            elif mode == 'test':\n",
    "                top_10_track_ids, top_10_track_mats, recalls, recalls_old, recalls_new, others = \\\n",
    "                    recommender.recommend(pred, x_tracks[i * _batch_size: (i + 1)*_batch_size], y_tracks[i * _batch_size: (i + 1)*_batch_size], return_songs=True)\n",
    "                self.recom_list.append(top_10_track_mats)\n",
    "                self.recom_id_list.append(top_10_track_ids)\n",
    "            # recall 100 for each user\n",
    "            for u in range(batch_size):\n",
    "                # get recalls for the user\n",
    "                top_k_track = set(self.recom_id_list[i][2*u])\n",
    "                gt_set = set(self.y_track[i * batch_size + u])\n",
    "                inter_set = top_k_track & gt_set\n",
    "                self.recall_list.append(len(inter_set) / len(gt_set))\n",
    "                self.matched_list.append(list(inter_set))\n",
    "            \n",
    "                \n",
    "    def visualize(self, idx, user_embed_num=10, plot=True):\n",
    "        batch_idx, user_idx = int(idx / batch_size), idx - int(idx / batch_size) * batch_size\n",
    "        #user_embed = self.pred_list[batch_idx][user_idx].to('cpu').detach().numpy()\n",
    "        #liked_song = self.x[batch_idx][user_idx].to('cpu').detach().numpy()\n",
    "        #masked_song = self.y[batch_idx][user_idx].to('cpu').detach().numpy()\n",
    "        user_embed = self.pred_list[batch_idx][user_idx].to('cpu').to(torch.float32)\n",
    "        liked_song = self.x[batch_idx][user_idx].to('cpu').to(torch.float32)\n",
    "        masked_song = self.y[batch_idx][user_idx].to('cpu').to(torch.float32)\n",
    "        # To 2d\n",
    "        user_embed = self.to_2d(user_embed)\n",
    "        liked_song = self.to_2d(liked_song)\n",
    "        masked_song = self.to_2d(masked_song)\n",
    "        # get recalls for the user\n",
    "        print('user id: {}, recalls: @100: {}, matched: {} / {}'\\\n",
    "              .format(idx, self.recall_list[idx], len(self.matched_list[idx]), len(self.y_track[idx])))\n",
    "        # standardize\n",
    "        if plot:\n",
    "            plt.figure()\n",
    "            #plt.scatter(user_embed[:, 0], user_embed[:, 1], label='user embedding')\n",
    "            '''\n",
    "            if user_embed_num > 0:\n",
    "                plt.plot([0, user_embed[0, 0]], [0, user_embed[0, 1]], color='steelblue', label='user embedding')\n",
    "            for j in range(1, user_embed_num):\n",
    "                #print(user_embed[j, 0],user_embed[j, 1])\n",
    "                plt.plot([0, user_embed[j, 0]], [0, user_embed[j, 1]], color='steelblue')\n",
    "            '''\n",
    "            plt.scatter(liked_song[:, 0], liked_song[:, 1], label='liked songs', color='seagreen')\n",
    "            plt.scatter(masked_song[:, 0], masked_song[:, 1], label='masked songs', color='orange')\n",
    "            plt.axis('equal')\n",
    "            plt.legend()\n",
    "            plt.show()\n",
    "        return liked_song, masked_song\n",
    "        \n",
    "        \n",
    "            \n",
    "\n"
   ]
  },
  {
   "cell_type": "code",
   "execution_count": 260,
   "metadata": {},
   "outputs": [
    {
     "name": "stderr",
     "output_type": "stream",
     "text": [
      "\r",
      "  0%|                                                                                            | 0/2 [00:00<?, ?it/s]"
     ]
    },
    {
     "name": "stdout",
     "output_type": "stream",
     "text": [
      "Visualizer init\n"
     ]
    },
    {
     "name": "stderr",
     "output_type": "stream",
     "text": [
      "100%|████████████████████████████████████████████████████████████████████████████████████| 2/2 [00:02<00:00,  1.41s/it]\n"
     ]
    },
    {
     "data": {
      "text/plain": [
       "(-0.3246834792604846,\n",
       " 2.144558891895077,\n",
       " -1.4049878307021006,\n",
       " 1.0780550223023453)"
      ]
     },
     "execution_count": 260,
     "metadata": {},
     "output_type": "execute_result"
    },
    {
     "data": {
      "image/png": "[encoded data removed]",
      "text/plain": [
       "<Figure size 432x288 with 1 Axes>"
      ]
     },
     "metadata": {
      "needs_background": "light"
     },
     "output_type": "display_data"
    }
   ],
   "source": [
    "# evaluate validation data\n",
    "visual = Visualizer(dataset)\n",
    "visual.evaluate(model, x_valid_tensor_list, y_valid_tensor_list, x_valid_len_list, y_valid_len_list, x_valid_tracks, y_valid_tracks, recommender_valid)\n",
    "\n",
    "# visualize song mat\n",
    "plt.scatter(visual.song_mat[:, 0], visual.song_mat[:, 1])\n",
    "plt.axis('equal')"
   ]
  },
  {
   "cell_type": "code",
   "execution_count": 261,
   "metadata": {},
   "outputs": [
    {
     "name": "stdout",
     "output_type": "stream",
     "text": [
      "[ 0 61 21 60 59 54 25 64 50 29 44 31 32 43 34 28 17 18 76  1  2 93 85 84\n",
      " 83 77 16 42 74 73 11 12 70 69 68 35 51 49 23 52 98 71 96 39 36 41 47  6\n",
      " 53 45 48  9 79 40 15 10 14 26 33 58 62 57 65 67 95 97 99 91 72  7 24 30\n",
      " 27 86 19 13  5 81 22 90  4 20 37 55 80 63 88 87 92  8  3 78 94 82 38 75\n",
      " 66 89 56 46]\n",
      "48\n",
      "top_k: [46 56 89 66 75 38 82 94 78  3  8 92 87 88 63 80 55 37 20  4]\n",
      "bottom_k: [ 0 61 21 60 59 54 25 64 50 29 44 31 32 43 34 28 17 18 76  1]\n",
      "Recall = 0:  35.0 35.0%\n",
      "Recall > 0:  65.0 65.0%\n",
      "0.13814926525098667\n"
     ]
    },
    {
     "data": {
      "image/png": "[encoded data removed]",
      "text/plain": [
       "<Figure size 432x288 with 1 Axes>"
      ]
     },
     "metadata": {
      "needs_background": "light"
     },
     "output_type": "display_data"
    }
   ],
   "source": [
    "k = 20\n",
    "\n",
    "args = np.argsort(np.array(visual.recall_list))\n",
    "\n",
    "print(args)\n",
    "print(args[int(len(args) / 2)])\n",
    "\n",
    "top_k_arg = args[-k:]\n",
    "bottom_k_arg = args[:k]\n",
    "print('top_k:', np.flip(top_k_arg))\n",
    "print('bottom_k:', bottom_k_arg)\n",
    "\n",
    "num = plt.hist(visual.recall_list, bins=30)\n",
    "print('Recall = 0: ', num[0][0], \"{}%\".format(num[0][0] * 100 / (num[0][0] + num[0][1:].sum())))\n",
    "print('Recall > 0: ',num[0][1:].sum(), \"{}%\".format(num[0][1:].sum() * 100 / (num[0][0] + num[0][1:].sum())))\n",
    "print(sum(visual.recall_list)/len(visual.recall_list))"
   ]
  },
  {
   "cell_type": "code",
   "execution_count": 262,
   "metadata": {},
   "outputs": [
    {
     "name": "stdout",
     "output_type": "stream",
     "text": [
      "user id: 46, recalls: @100: 0.6923076923076923, matched: 9 / 13\n"
     ]
    },
    {
     "name": "stderr",
     "output_type": "stream",
     "text": [
      "<ipython-input-259-33bcd1e468e7>:14: UserWarning: To copy construct from a tensor, it is recommended to use sourceTensor.clone().detach() or sourceTensor.clone().detach().requires_grad_(True), rather than torch.tensor(sourceTensor).\n",
      "  mat = torch.matmul(torch.tensor(mat), self.V[:, :2]).numpy()\n"
     ]
    },
    {
     "data": {
      "image/png": "[encoded data removed]",
      "text/plain": [
       "<Figure size 432x288 with 1 Axes>"
      ]
     },
     "metadata": {
      "needs_background": "light"
     },
     "output_type": "display_data"
    },
    {
     "name": "stdout",
     "output_type": "stream",
     "text": [
      "user id: 56, recalls: @100: 0.6666666666666666, matched: 16 / 24\n"
     ]
    },
    {
     "data": {
      "image/png": "[encoded data removed]",
      "text/plain": [
       "<Figure size 432x288 with 1 Axes>"
      ]
     },
     "metadata": {
      "needs_background": "light"
     },
     "output_type": "display_data"
    },
    {
     "name": "stdout",
     "output_type": "stream",
     "text": [
      "user id: 99, recalls: @100: 0.125, matched: 3 / 24\n"
     ]
    },
    {
     "data": {
      "image/png": "[encoded data removed]",
      "text/plain": [
       "<Figure size 432x288 with 1 Axes>"
      ]
     },
     "metadata": {
      "needs_background": "light"
     },
     "output_type": "display_data"
    },
    {
     "name": "stdout",
     "output_type": "stream",
     "text": [
      "user id: 91, recalls: @100: 0.14285714285714285, matched: 4 / 28\n"
     ]
    },
    {
     "data": {
      "image/png": "[encoded data removed]",
      "text/plain": [
       "<Figure size 432x288 with 1 Axes>"
      ]
     },
     "metadata": {
      "needs_background": "light"
     },
     "output_type": "display_data"
    },
    {
     "name": "stdout",
     "output_type": "stream",
     "text": [
      "user id: 0, recalls: @100: 0.0, matched: 0 / 11\n"
     ]
    },
    {
     "data": {
      "image/png": "[encoded data removed]",
      "text/plain": [
       "<Figure size 432x288 with 1 Axes>"
      ]
     },
     "metadata": {
      "needs_background": "light"
     },
     "output_type": "display_data"
    },
    {
     "name": "stdout",
     "output_type": "stream",
     "text": [
      "user id: 61, recalls: @100: 0.0, matched: 0 / 9\n"
     ]
    },
    {
     "data": {
      "image/png": "[encoded data removed]",
      "text/plain": [
       "<Figure size 432x288 with 1 Axes>"
      ]
     },
     "metadata": {
      "needs_background": "light"
     },
     "output_type": "display_data"
    },
    {
     "data": {
      "text/plain": [
       "'\\nvisual.visualize(89, user_embed_num=embed_num)\\nvisual.visualize(5, user_embed_num=embed_num)\\n\\nvisual.visualize(95, user_embed_num=embed_num)\\nvisual.visualize(94, user_embed_num=embed_num)\\n\\nvisual.visualize(0, user_embed_num=embed_num)\\nvisual.visualize(64, user_embed_num=embed_num)\\n'"
      ]
     },
     "execution_count": 262,
     "metadata": {},
     "output_type": "execute_result"
    }
   ],
   "source": [
    "embed_num = 5\n",
    "\n",
    "# genre + audio\n",
    "'''\n",
    "visual.visualize(46, user_embed_num=embed_num)\n",
    "visual.visualize(56, user_embed_num=embed_num)\n",
    "\n",
    "visual.visualize(99, user_embed_num=embed_num)\n",
    "visual.visualize(91, user_embed_num=embed_num)\n",
    "\n",
    "visual.visualize(0, user_embed_num=embed_num)\n",
    "visual.visualize(61, user_embed_num=embed_num)\n",
    "'''\n",
    "# lyric\n",
    "'''\n",
    "visual.visualize(91, user_embed_num=embed_num)\n",
    "visual.visualize(67, user_embed_num=embed_num)\n",
    "\n",
    "visual.visualize(31, user_embed_num=embed_num)\n",
    "visual.visualize(30, user_embed_num=embed_num)\n",
    "\n",
    "visual.visualize(0, user_embed_num=embed_num)\n",
    "visual.visualize(71, user_embed_num=embed_num)\n",
    "'''\n",
    "\n",
    "# genre\n",
    "\n",
    "visual.visualize(46, user_embed_num=embed_num)\n",
    "visual.visualize(56, user_embed_num=embed_num)\n",
    "\n",
    "visual.visualize(99, user_embed_num=embed_num)\n",
    "visual.visualize(91, user_embed_num=embed_num)\n",
    "\n",
    "visual.visualize(0, user_embed_num=embed_num)\n",
    "visual.visualize(61, user_embed_num=embed_num)\n",
    "\n",
    "# audio\n",
    "'''\n",
    "visual.visualize(89, user_embed_num=embed_num)\n",
    "visual.visualize(5, user_embed_num=embed_num)\n",
    "\n",
    "visual.visualize(95, user_embed_num=embed_num)\n",
    "visual.visualize(94, user_embed_num=embed_num)\n",
    "\n",
    "visual.visualize(0, user_embed_num=embed_num)\n",
    "visual.visualize(64, user_embed_num=embed_num)\n",
    "'''"
   ]
  },
  {
   "cell_type": "code",
   "execution_count": 286,
   "metadata": {},
   "outputs": [
    {
     "name": "stdout",
     "output_type": "stream",
     "text": [
      "Database musicdbn has already been existed.\n",
      "Table echonest has already been existed.\n",
      "Table echofilter has already been existed.\n",
      "Table millionsonglink has already been existed.\n",
      "Table spotify has already been existed.\n",
      "Table songs has already been existed.\n",
      "user id: 46, recalls: @100: 0.6923076923076923, matched: 9 / 13\n",
      "(64, 2)\n",
      "(65, 2)\n"
     ]
    },
    {
     "name": "stderr",
     "output_type": "stream",
     "text": [
      "<ipython-input-259-33bcd1e468e7>:14: UserWarning: To copy construct from a tensor, it is recommended to use sourceTensor.clone().detach() or sourceTensor.clone().detach().requires_grad_(True), rather than torch.tensor(sourceTensor).\n",
      "  mat = torch.matmul(torch.tensor(mat), self.V[:, :2]).numpy()\n"
     ]
    },
    {
     "name": "stdout",
     "output_type": "stream",
     "text": [
      "title: Keep The Car Running, \t\tgenre: indie\n",
      "title: A Beggar On A Beach Of Gold, \t\tgenre: pop\n",
      "title: Neighborhood #3 (Power Out), \t\tgenre: indie rock\n",
      "title: Black Wave/Bad Vibrations, \t\tgenre: indie rock\n",
      "title: Black Mirror, \t\tgenre: indie\n",
      "title: Tired Feet, \t\tgenre: folk\n",
      "title: Can You Blame The Sky?, \t\tgenre: folk\n",
      "title: The Well And The Lighthouse, \t\tgenre: indie rock\n",
      "title: Sister Self, \t\tgenre: folk\n",
      "title: Crown Of Love, \t\tgenre: indie rock\n",
      "title: All The Kings Horns, \t\tgenre: []\n",
      "-----------------------------------------------------------------\n",
      "title: The Pirate's Gospel, \t\tgenre: folk\n",
      "title: Pieces Of String, \t\tgenre: folk\n",
      "title: The Rifle, \t\tgenre: folk\n",
      "title: Neighborhood #4 (Kettles), \t\tgenre: indie rock\n",
      "title: Ocean Of Noise, \t\tgenre: indie\n",
      "title: In The Backseat, \t\tgenre: indie rock\n",
      "title: (Antichrist Television Blues), \t\tgenre: indie rock\n",
      "title: Oh! My Mama, \t\tgenre: folk\n",
      "title: Something's Gone Awry, \t\tgenre: folk\n",
      "title: Go To Sleep, \t\tgenre: Alt-country\n",
      "title: My Body Is A Cage, \t\tgenre: indie\n",
      "title: Foreign Tongue, \t\tgenre: folk\n",
      "title: Pigeon Song, \t\tgenre: folk\n",
      "user id: 56, recalls: @100: 0.6666666666666666, matched: 16 / 24\n",
      "(63, 2)\n",
      "(65, 2)\n",
      "title: Just Couldn't Tie Me Down, \t\tgenre: blues rock\n",
      "title: Them Eyes, \t\tgenre: blues\n",
      "title: Do The Rump, \t\tgenre: blues rock\n",
      "title: When The Lights Go Out, \t\tgenre: blues rock\n",
      "title: Elevator, \t\tgenre: blues rock\n",
      "title: Say Yes, \t\tgenre: acoustic\n",
      "title: Your Touch, \t\tgenre: blues rock\n",
      "title: Just A Little Heat, \t\tgenre: rock\n",
      "title: Everywhere I Go, \t\tgenre: blues\n",
      "title: Rose Parade, \t\tgenre: indie\n",
      "title: Thickfreakness, \t\tgenre: blues rock\n",
      "title: Stack Shot Billy, \t\tgenre: blues rock\n",
      "title: Girl Is On My Mind, \t\tgenre: blues rock\n",
      "title: Pictures Of Me, \t\tgenre: singer-songwriter\n",
      "title: Whatever (Folk Song in C), \t\tgenre: acoustic\n",
      "title: Busted, \t\tgenre: blues rock\n",
      "title: Aeroplane Blues, \t\tgenre: blues rock\n",
      "title: Strange Desire, \t\tgenre: blues rock\n",
      "title: Work Me, \t\tgenre: blues\n",
      "title: Punch And Judy, \t\tgenre: indie\n",
      "title: Act Nice and Gentle, \t\tgenre: blues rock\n",
      "title: Just Got To Be, \t\tgenre: blues rock\n",
      "-----------------------------------------------------------------\n",
      "title: Countdown, \t\tgenre: blues rock\n",
      "title: Grown So Ugly, \t\tgenre: blues rock\n",
      "title: 240 Years Before Your Time, \t\tgenre: blues rock\n",
      "title: No Name No. 5, \t\tgenre: singer-songwriter\n",
      "title: Black Door, \t\tgenre: blues rock\n",
      "title: Alameda, \t\tgenre: singer-songwriter\n",
      "title: 10 A.M. Automatic, \t\tgenre: blues rock\n",
      "title: Hotel Yorba, \t\tgenre: rock\n",
      "title: Needle In The Hay, \t\tgenre: indie\n",
      "title: Goodbye Babylon, \t\tgenre: blues rock\n",
      "title: The Lengths, \t\tgenre: blues rock\n",
      "title: The Flame, \t\tgenre: blues rock\n",
      "title: Angeles, \t\tgenre: indie\n",
      "title: Cupids Trick, \t\tgenre: indie\n",
      "title: All Hands Against His Own, \t\tgenre: blues rock\n",
      "title: The Desperate Man, \t\tgenre: blues rock\n",
      "title: Give Your Heart Away, \t\tgenre: blues rock\n",
      "title: Brooklyn Bound, \t\tgenre: blues rock\n",
      "title: Keep Me, \t\tgenre: blues rock\n",
      "title: Till I Get My Way, \t\tgenre: blues rock\n",
      "title: Between The Bars, \t\tgenre: indie\n",
      "title: Yearnin', \t\tgenre: blues rock\n",
      "title: Speed Trials, \t\tgenre: singer-songwriter\n",
      "title: Modern Times, \t\tgenre: blues\n",
      "user id: 99, recalls: @100: 0.125, matched: 3 / 24\n",
      "(63, 2)\n",
      "(65, 2)\n",
      "title: Screen Man, \t\tgenre: alternative rock\n",
      "title: The Bitter End, \t\tgenre: rock\n",
      "title: Black Cherry, \t\tgenre: electronic\n",
      "title: The Zookeeper's Boy, \t\tgenre: indie\n",
      "title: Respect, \t\tgenre: soul\n",
      "title: A Whiter Shade Of Pale, \t\tgenre: classic rock\n",
      "title: Epic, \t\tgenre: rock\n",
      "title: Paradise By The Dashboard Light, \t\tgenre: classic rock\n",
      "title: Fear And Love, \t\tgenre: trip-hop\n",
      "title: Same Ol' Situation (S.O.S.), \t\tgenre: hard rock\n",
      "title: Just A Friend, \t\tgenre: Hip-Hop\n",
      "title: Black Betty, \t\tgenre: classic rock\n",
      "title: One More Kiss_ Dear, \t\tgenre: []\n",
      "title: Colorblind, \t\tgenre: female vocalists\n",
      "title: Four To The Floor, \t\tgenre: britpop\n",
      "title: Goodnight and Go, \t\tgenre: female vocalists\n",
      "title: Groovin', \t\tgenre: 60s\n",
      "title: Rasputin, \t\tgenre: Disco\n",
      "title: Once In A Lifetime, \t\tgenre: synthpop\n",
      "title: Boogie 2Nite, \t\tgenre: dance\n",
      "title: One More Try, \t\tgenre: 80s\n",
      "title: YMCA, \t\tgenre: Disco\n",
      "title: The Wild Boys, \t\tgenre: 80s\n",
      "-----------------------------------------------------------------\n",
      "title: Dream On, \t\tgenre: classic rock\n",
      "title: Movin' Out (Anthony's Song), \t\tgenre: classic rock\n",
      "title: Gold Mine Gutted, \t\tgenre: indie\n",
      "title: Drive, \t\tgenre: rock\n",
      "title: In-A-Gadda-Da-Vida, \t\tgenre: Psychedelic Rock\n",
      "title: Satisfaction, \t\tgenre: electronic\n",
      "title: Exceeder, \t\tgenre: House\n",
      "title: Summer Nights, \t\tgenre: hard rock\n",
      "title: Ravendusk In My Heart, \t\tgenre: atmospheric\n",
      "title: Breaking Down The Walls Of Heartache, \t\tgenre: pop punk\n",
      "title: Fragments Of Freedom, \t\tgenre: trip-hop\n",
      "title: Seeds Of Night, \t\tgenre: folk\n",
      "title: Midlife Crisis, \t\tgenre: rock\n",
      "title: Louie Louie, \t\tgenre: 60s\n",
      "title: Hold On I'm Comin', \t\tgenre: soul\n",
      "title: Wait For Me, \t\tgenre: Soundtrack\n",
      "title: Hooked On A Feeling, \t\tgenre: 70s\n",
      "title: Blue Orchid, \t\tgenre: rock\n",
      "title: When A Child Is Born, \t\tgenre: pop\n",
      "title: Yellow, \t\tgenre: rock\n",
      "title: Good Lovin' Gone Bad, \t\tgenre: classic rock\n",
      "title: Unintended, \t\tgenre: alternative rock\n",
      "title: Quicksand, \t\tgenre: chillout\n",
      "title: Dont Look Down, \t\tgenre: 80s\n",
      "user id: 91, recalls: @100: 0.14285714285714285, matched: 4 / 28\n",
      "(63, 2)\n",
      "(65, 2)\n",
      "title: Avenger, \t\tgenre: Melodic Death Metal\n",
      "title: As Rome Burns, \t\tgenre: black metal\n",
      "title: Something Happened On The Way To Heaven, \t\tgenre: pop\n",
      "title: Release, \t\tgenre: Melodic Death Metal\n",
      "title: Poems, \t\tgenre: Melodic Death Metal\n",
      "title: Hero, \t\tgenre: Melodic Death Metal\n",
      "title: D.i.b., \t\tgenre: Melodic Death Metal\n",
      "title: The Golden Spiral, \t\tgenre: black metal\n",
      "title: The Chainheart Machine, \t\tgenre: Melodic Death Metal\n",
      "title: Eyes Of Horror, \t\tgenre: Melodic Death Metal\n",
      "title: Open Your Mind, \t\tgenre: dance\n",
      "title: Sinners defeat, \t\tgenre: Melodic Death Metal\n",
      "title: Stabbing The Drama, \t\tgenre: Melodic Death Metal\n",
      "title: Drone, \t\tgenre: Melodic Death Metal\n",
      "title: The Illusionist, \t\tgenre: Melodic Death Metal\n",
      "title: Giles, \t\tgenre: metalcore\n",
      "title: Collective, \t\tgenre: chill\n",
      "title: The Coffin Ships, \t\tgenre: black metal\n",
      "title: Gallows Hymn, \t\tgenre: black metal\n",
      "title: Golden Ball, \t\tgenre: post-rock\n",
      "title: It is done, \t\tgenre: Melodic Death Metal\n",
      "title: Parasites Of Paradise, \t\tgenre: Melodic Death Metal\n",
      "title: Finality, \t\tgenre: Melodic Death Metal\n",
      "title: Failures Burden, \t\tgenre: black metal\n",
      "title: Cleansing rain, \t\tgenre: Melodic Death Metal\n",
      "title: Rejection Role, \t\tgenre: Melodic Death Metal\n",
      "-----------------------------------------------------------------\n",
      "title: The oppressed will rise, \t\tgenre: Melodic Death Metal\n",
      "title: Casey Jones, \t\tgenre: blues\n",
      "title: Twenty-Four Hours From Tulsa, \t\tgenre: 60s\n",
      "title: Sons Of The Morrigan, \t\tgenre: black metal\n",
      "title: Cities Carved In Stone, \t\tgenre: black metal\n",
      "title: Traitors Gate, \t\tgenre: black metal\n",
      "title: No Nation On This Earth, \t\tgenre: black metal\n",
      "title: Tragedy's Birth, \t\tgenre: black metal\n",
      "title: Zombie Inc., \t\tgenre: Melodic Death Metal\n",
      "title: The Song Of The Tomb, \t\tgenre: metal\n",
      "title: Retaliator, \t\tgenre: Melodic Death Metal\n",
      "title: The Kaleidoscopic God, \t\tgenre: Melodic Death Metal\n",
      "title: Skweeze Me_ Pleeze Me, \t\tgenre: []\n",
      "title: Nemesis, \t\tgenre: Melodic Death Metal\n",
      "title: Figure Number Five, \t\tgenre: Melodic Death Metal\n",
      "title: 11 am, \t\tgenre: alternative rock\n",
      "title: In my words, \t\tgenre: Melodic Death Metal\n",
      "title: Another creation, \t\tgenre: Melodic Death Metal\n",
      "title: Pitch Black Progress, \t\tgenre: Melodic Death Metal\n",
      "title: Terminal liberation, \t\tgenre: Melodic Death Metal\n",
      "title: Nocturnal Supremacy, \t\tgenre: black metal\n",
      "title: Así Lo Recuerdo, \t\tgenre: []\n",
      "title: Two Steps Away, \t\tgenre: Melodic Death Metal\n",
      "title: The animal within, \t\tgenre: Melodic Death Metal\n",
      "title: Frozen, \t\tgenre: Melodic Death Metal\n",
      "title: Love Child, \t\tgenre: hard rock\n",
      "title: Cast To The Pyre, \t\tgenre: black metal\n",
      "title: Baby baby baby, \t\tgenre: []\n",
      "user id: 0, recalls: @100: 0.0, matched: 0 / 11\n",
      "(64, 2)\n",
      "(65, 2)\n",
      "title: Mexico, \t\tgenre: indie rock\n",
      "title: Sitting, \t\tgenre: electronic\n",
      "title: All Along The Watchtower, \t\tgenre: classic rock\n",
      "title: Stay Tuned, \t\tgenre: trip-hop\n",
      "title: Crying At The Aquarium, \t\tgenre: post-rock\n"
     ]
    },
    {
     "name": "stdout",
     "output_type": "stream",
     "text": [
      "title: Facing That, \t\tgenre: electronic\n",
      "title: Living Life Like A Gangster, \t\tgenre: []\n",
      "title: Gin and Juice, \t\tgenre: Alt-country\n",
      "title: Call On Me, \t\tgenre: dance\n",
      "title: Radio Broadcast, \t\tgenre: trip-hop\n",
      "-----------------------------------------------------------------\n",
      "title: Reign Of The Tyrants, \t\tgenre: heavy metal\n",
      "title: Doo Wop (That Thing), \t\tgenre: rnb\n",
      "title: San Geronimo, \t\tgenre: alternative\n",
      "title: Sundialing, \t\tgenre: electronic\n",
      "title: Safe, \t\tgenre: electronic\n",
      "title: Ruby Dear, \t\tgenre: new wave\n",
      "title: Swing Pool, \t\tgenre: indie rock\n",
      "title: Do Yo Thang, \t\tgenre: hip hop\n",
      "title: Canada, \t\tgenre: []\n",
      "title: Ghetto Chick, \t\tgenre: rap\n",
      "title: Dancing in the Moonlight, \t\tgenre: 70s\n",
      "user id: 61, recalls: @100: 0.0, matched: 0 / 9\n",
      "(63, 2)\n",
      "(65, 2)\n",
      "title: Undo, \t\tgenre: electronic\n",
      "title: Reality - When You Die, \t\tgenre: death metal\n",
      "title: Ladies in Their Sensitivities, \t\tgenre: []\n",
      "title: Epiphany, \t\tgenre: Soundtrack\n",
      "title: The Summer, \t\tgenre: trance\n",
      "title: Ever Fallen In Love, \t\tgenre: 80s\n",
      "title: Dollhouse, \t\tgenre: Gothic\n",
      "title: Carte Blanche (Original Mix), \t\tgenre: trance\n",
      "-----------------------------------------------------------------\n",
      "title: Another Bridge, \t\tgenre: pop\n",
      "title: Wait, \t\tgenre: []\n",
      "title: On A Promise, \t\tgenre: trance\n",
      "title: Poor Thing, \t\tgenre: instrumental\n",
      "title: No Place Like London, \t\tgenre: sad\n",
      "title: Invalid, \t\tgenre: metal\n",
      "title: Regression-Progression, \t\tgenre: death metal\n",
      "title: Better To Reign In Hell, \t\tgenre: black metal\n",
      "title: Inter Course, \t\tgenre: old school\n"
     ]
    },
    {
     "data": {
      "image/png": "[encoded data removed]",
      "text/plain": [
       "<Figure size 432x288 with 1 Axes>"
      ]
     },
     "metadata": {
      "needs_background": "light"
     },
     "output_type": "display_data"
    }
   ],
   "source": [
    "from data_loader import musicdb\n",
    "import json\n",
    "\n",
    "db = musicdb.MusicDB()\n",
    "\n",
    "def get_max_genre(stats):\n",
    "    stats = json.loads(stats)\n",
    "    if len(stats.keys()) == 0:\n",
    "        return []\n",
    "    inverse = [(value, key) for key, value in stats.items()]\n",
    "    return(max(inverse)[1])\n",
    "\n",
    "user_id_list = [46, 56, 99, 91, 0, 61]\n",
    "plt.figure()\n",
    "for user_id in user_id_list:\n",
    "    liked_song, masked_song = visual.visualize(user_id, user_embed_num=5, plot=False)\n",
    "    print(liked_song.shape)\n",
    "    print(masked_song.shape)\n",
    "    all_song = np.concatenate([liked_song, masked_song], axis=0)\n",
    "    #plt.scatter(liked_song[:, 0], liked_song[:, 1], label='user {} liked songs'.format(user_id))\n",
    "    #plt.scatter(masked_song[:, 0], masked_song[:, 1], label='user {} masked songs'.format(user_id))\n",
    "    plt.scatter(all_song[:, 0], all_song[:, 1], label='user {}'.format(user_id))\n",
    "    \n",
    "    for track in x_valid_tracks[user_id]:\n",
    "        song_dict = db.select_song_spotify(track)\n",
    "        print(\"title: {}, \\t\\tgenre: {}\".format(song_dict['track_name'], get_max_genre(song_dict['genre_top'])))\n",
    "    print(\"-----------------------------------------------------------------\")\n",
    "    for track in y_valid_tracks[user_id]:\n",
    "        song_dict = db.select_song_spotify(track)\n",
    "        print(\"title: {}, \\t\\tgenre: {}\".format(song_dict['track_name'], get_max_genre(song_dict['genre_top'])))\n",
    "    \n",
    "plt.legend()\n",
    "plt.show()\n",
    "\n",
    "\n",
    "    "
   ]
  },
  {
   "cell_type": "code",
   "execution_count": 289,
   "metadata": {
    "scrolled": true
   },
   "outputs": [
    {
     "name": "stdout",
     "output_type": "stream",
     "text": [
      "46\n",
      "title: The Pirate's Gospel, \t\tgenre: folk\n",
      "title: Pieces Of String, \t\tgenre: folk\n",
      "title: Neighborhood #4 (Kettles), \t\tgenre: indie rock\n",
      "title: (Antichrist Television Blues), \t\tgenre: indie rock\n",
      "title: Pigeon Song, \t\tgenre: folk\n",
      "title: Ocean Of Noise, \t\tgenre: indie\n",
      "title: Foreign Tongue, \t\tgenre: folk\n",
      "title: Something's Gone Awry, \t\tgenre: folk\n",
      "title: My Body Is A Cage, \t\tgenre: indie\n",
      "------------------------------------\n",
      "56\n",
      "title: Till I Get My Way, \t\tgenre: blues rock\n",
      "title: Brooklyn Bound, \t\tgenre: blues rock\n",
      "title: Keep Me, \t\tgenre: blues rock\n",
      "title: All Hands Against His Own, \t\tgenre: blues rock\n",
      "title: Modern Times, \t\tgenre: blues\n",
      "title: 240 Years Before Your Time, \t\tgenre: blues rock\n",
      "title: Countdown, \t\tgenre: blues rock\n",
      "title: Black Door, \t\tgenre: blues rock\n",
      "title: Goodbye Babylon, \t\tgenre: blues rock\n",
      "title: The Flame, \t\tgenre: blues rock\n",
      "title: Speed Trials, \t\tgenre: singer-songwriter\n",
      "title: Angeles, \t\tgenre: indie\n",
      "title: Give Your Heart Away, \t\tgenre: blues rock\n",
      "title: Alameda, \t\tgenre: singer-songwriter\n",
      "title: Yearnin', \t\tgenre: blues rock\n",
      "title: Grown So Ugly, \t\tgenre: blues rock\n",
      "------------------------------------\n",
      "99\n",
      "title: Fragments Of Freedom, \t\tgenre: trip-hop\n",
      "title: Drive, \t\tgenre: rock\n",
      "title: Dream On, \t\tgenre: classic rock\n",
      "------------------------------------\n",
      "91\n",
      "title: The animal within, \t\tgenre: Melodic Death Metal\n",
      "title: Pitch Black Progress, \t\tgenre: Melodic Death Metal\n",
      "title: Terminal liberation, \t\tgenre: Melodic Death Metal\n",
      "title: Another creation, \t\tgenre: Melodic Death Metal\n",
      "------------------------------------\n",
      "0\n",
      "------------------------------------\n",
      "61\n",
      "------------------------------------\n"
     ]
    }
   ],
   "source": [
    "for user_id in user_id_list:\n",
    "    print(user_id)\n",
    "    for track in visual.matched_list[user_id]:\n",
    "        song_dict = db.select_song_spotify(track)\n",
    "        print(\"title: {}, \\t\\tgenre: {}\".format(song_dict['track_name'], get_max_genre(song_dict['genre_top'])))\n",
    "    print(\"------------------------------------\")"
   ]
  },
  {
   "cell_type": "code",
   "execution_count": null,
   "metadata": {},
   "outputs": [],
   "source": [
    "# evaluate validation data\n",
    "visual = Visualizer(dataset)\n",
    "visual.evaluate(model, x_valid_tensor_list, y_valid_tensor_list, x_valid_len_list, y_valid_len_list, x_valid_tracks, y_valid_tracks, recommender_valid)"
   ]
  },
  {
   "cell_type": "code",
   "execution_count": null,
   "metadata": {},
   "outputs": [],
   "source": []
  },
  {
   "cell_type": "code",
   "execution_count": null,
   "metadata": {},
   "outputs": [],
   "source": []
  },
  {
   "cell_type": "code",
   "execution_count": 9,
   "metadata": {},
   "outputs": [
    {
     "data": {
      "text/plain": [
       "[<matplotlib.lines.Line2D at 0x1a413fdf070>]"
      ]
     },
     "execution_count": 9,
     "metadata": {},
     "output_type": "execute_result"
    },
    {
     "data": {
      "image/png": "[encoded data removed]",
      "text/plain": [
       "<Figure size 432x288 with 1 Axes>"
      ]
     },
     "metadata": {
      "needs_background": "light"
     },
     "output_type": "display_data"
    },
    {
     "data": {
      "image/png": "[encoded data removed]",
      "text/plain": [
       "<Figure size 432x288 with 1 Axes>"
      ]
     },
     "metadata": {
      "needs_background": "light"
     },
     "output_type": "display_data"
    }
   ],
   "source": [
    "# visualize training process\n",
    "pkl_path = 'E:\\dataset\\echo_nest\\sub_data\\genre_meta_musicnn_none\\\\b_50_lr_0.001_head_1.pkl'\n",
    "with open(pkl_path, 'rb') as f:\n",
    "    recorders = pickle.load(f)\n",
    "    train_loss_batch = recorders['train_loss_batch']\n",
    "    train_loss_epoch = recorders['train_loss_epoch']\n",
    "    valid_loss_epoch = recorders['valid_loss_epoch']\n",
    "    recall_epoch = recorders['recall_epoch']\n",
    "\n",
    "plt.figure(1)\n",
    "plt.plot(train_loss_epoch)\n",
    "plt.plot(valid_loss_epoch)\n",
    "\n",
    "recalls = np.array(recall_epoch)\n",
    "plt.figure(2)\n",
    "plt.plot(recalls[:, 0])\n",
    "plt.plot(recalls[:, 1])\n",
    "plt.plot(recalls[:, 2])"
   ]
  },
  {
   "cell_type": "code",
   "execution_count": null,
   "metadata": {},
   "outputs": [],
   "source": []
  }
 ],
 "metadata": {
  "kernelspec": {
   "display_name": "Python 3",
   "language": "python",
   "name": "python3"
  },
  "language_info": {
   "codemirror_mode": {
    "name": "ipython",
    "version": 3
   },
   "file_extension": ".py",
   "mimetype": "text/x-python",
   "name": "python",
   "nbconvert_exporter": "python",
   "pygments_lexer": "ipython3",
   "version": "3.8.5"
  }
 },
 "nbformat": 4,
 "nbformat_minor": 4
}
